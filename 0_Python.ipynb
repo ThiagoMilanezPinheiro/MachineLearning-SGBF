{
  "nbformat": 4,
  "nbformat_minor": 0,
  "metadata": {
    "colab": {
      "name": "0-Python.ipynb",
      "provenance": [],
      "collapsed_sections": [
        "XuYdf5rmYKK5",
        "D2XetkvocJhJ",
        "A935v479x_Sj",
        "rWuhtQDx7Kmh",
        "k6iCNUy01P8R",
        "TzNEp8YBw57v"
      ],
      "include_colab_link": true
    },
    "kernelspec": {
      "display_name": "Python 3",
      "language": "python",
      "name": "python3"
    },
    "language_info": {
      "codemirror_mode": {
        "name": "ipython",
        "version": 3
      },
      "file_extension": ".py",
      "mimetype": "text/x-python",
      "name": "python",
      "nbconvert_exporter": "python",
      "pygments_lexer": "ipython3",
      "version": "3.6.8"
    }
  },
  "cells": [
    {
      "cell_type": "markdown",
      "metadata": {
        "id": "view-in-github",
        "colab_type": "text"
      },
      "source": [
        "<a href=\"https://colab.research.google.com/github/ThiagoMilanezPinheiro/MachineLearning-SGBF/blob/main/0_Python.ipynb\" target=\"_parent\"><img src=\"https://colab.research.google.com/assets/colab-badge.svg\" alt=\"Open In Colab\"/></a>"
      ]
    },
    {
      "cell_type": "markdown",
      "metadata": {
        "id": "4sSPv8j103J6"
      },
      "source": [
        "![](https://www.python.org/static/img/python-logo@2x.png)"
      ]
    },
    {
      "cell_type": "markdown",
      "metadata": {
        "id": "VsEVVxAbyzWQ"
      },
      "source": [
        "[![Open In Colab](https://colab.research.google.com/assets/colab-badge.svg)](https://colab.research.google.com/github/UT-GEOML/GEO391/blob/main/Python.ipynb)"
      ]
    },
    {
      "cell_type": "markdown",
      "metadata": {
        "id": "xxXzDIem1Bcy"
      },
      "source": [
        "[Python](https://www.python.org/) \n",
        "* dynamic programming language\n",
        "* clear, readable syntax\n",
        "    - \"friendly and easy to learn\"\n",
        "* full modularity\n",
        "    - \"batteries included\"\n",
        "* integrates with other languages\n",
        "    - \"plays well with others\"\n",
        "* free and open-source\n",
        "\n",
        "To install and maintain Python on **your own computer**, [Anaconda](https://www.anaconda.com/products/individual) is probably the best solution. Use [virtual environments](https://docs.conda.io/projects/conda/en/latest/user-guide/tasks/manage-environments.html) for each big project that you are working on so that conflicts between different versions of libraries are avoided.\n",
        "\n",
        "It is increasingly attractive to do your work **in the cloud**, especially if that means you do not have to download a lot of data to your own computer or you need GPUs for running deep learning models. One of the easiest cloud options to get started with is [Google Colab](https://colab.research.google.com/)."
      ]
    },
    {
      "cell_type": "markdown",
      "metadata": {
        "id": "XuYdf5rmYKK5"
      },
      "source": [
        "# 1. Python basic data types: integers, floating point numbers, strings"
      ]
    },
    {
      "cell_type": "code",
      "metadata": {
        "id": "8Bqr9hAKYN7O"
      },
      "source": [
        "# This command assigns the integer '2300' to a variable named 'depth' (this is a comment):\n",
        "depth = 2400 # integer "
      ],
      "execution_count": null,
      "outputs": []
    },
    {
      "cell_type": "code",
      "metadata": {
        "colab": {
          "base_uri": "https://localhost:8080/"
        },
        "id": "wrHn4y1bZFhQ",
        "outputId": "0235aa58-90d1-4572-de2d-011902b70f31"
      },
      "source": [
        "# Python is a dynamically typed language\n",
        "type(depth)"
      ],
      "execution_count": null,
      "outputs": [
        {
          "output_type": "execute_result",
          "data": {
            "text/plain": [
              "int"
            ]
          },
          "metadata": {},
          "execution_count": 4
        }
      ]
    },
    {
      "cell_type": "code",
      "metadata": {
        "id": "2JLOSQbiZIWJ"
      },
      "source": [
        "depth = 2300.0 # float"
      ],
      "execution_count": null,
      "outputs": []
    },
    {
      "cell_type": "code",
      "metadata": {
        "colab": {
          "base_uri": "https://localhost:8080/"
        },
        "id": "C9VSvf--ZMwP",
        "outputId": "046ede21-ac17-401e-e54e-06db2ab089bb"
      },
      "source": [
        "type(depth)"
      ],
      "execution_count": null,
      "outputs": [
        {
          "output_type": "execute_result",
          "data": {
            "text/plain": [
              "float"
            ]
          },
          "metadata": {},
          "execution_count": 6
        }
      ]
    },
    {
      "cell_type": "code",
      "metadata": {
        "id": "7WSFViB5ZOBu"
      },
      "source": [
        "depth = \"2300.0\" # string"
      ],
      "execution_count": null,
      "outputs": []
    },
    {
      "cell_type": "code",
      "metadata": {
        "colab": {
          "base_uri": "https://localhost:8080/"
        },
        "id": "St-svLi4ZRdg",
        "outputId": "e0317e79-8382-40ea-d3c0-7763c447c2ca"
      },
      "source": [
        "type(depth)"
      ],
      "execution_count": null,
      "outputs": [
        {
          "output_type": "execute_result",
          "data": {
            "text/plain": [
              "str"
            ]
          },
          "metadata": {},
          "execution_count": 8
        }
      ]
    },
    {
      "cell_type": "code",
      "metadata": {
        "colab": {
          "base_uri": "https://localhost:8080/",
          "height": 35
        },
        "id": "BLHlI7R2ZX3q",
        "outputId": "4dce66bf-1527-4d59-dff1-14216db43a64"
      },
      "source": [
        "depth[0] # a string is a sequence (= ordered set) that can be indexed using square brackets"
      ],
      "execution_count": null,
      "outputs": [
        {
          "output_type": "execute_result",
          "data": {
            "application/vnd.google.colaboratory.intrinsic+json": {
              "type": "string"
            },
            "text/plain": [
              "'2'"
            ]
          },
          "metadata": {},
          "execution_count": 9
        }
      ]
    },
    {
      "cell_type": "code",
      "metadata": {
        "colab": {
          "base_uri": "https://localhost:8080/",
          "height": 35
        },
        "id": "aCOcdYR-ZjYM",
        "outputId": "6aa4fcb7-a8d8-4d20-ad0d-16e1f5e8de7e"
      },
      "source": [
        "depth[0:3] # slicing"
      ],
      "execution_count": null,
      "outputs": [
        {
          "output_type": "execute_result",
          "data": {
            "application/vnd.google.colaboratory.intrinsic+json": {
              "type": "string"
            },
            "text/plain": [
              "'230'"
            ]
          },
          "metadata": {},
          "execution_count": 10
        }
      ]
    },
    {
      "cell_type": "code",
      "metadata": {
        "colab": {
          "base_uri": "https://localhost:8080/",
          "height": 35
        },
        "id": "PHWY9tbXZzQv",
        "outputId": "f514737a-63d0-44b7-abfc-e45da13f75af"
      },
      "source": [
        "depth[0:4:2] # slicing; slice syntax: start:end:step"
      ],
      "execution_count": null,
      "outputs": [
        {
          "output_type": "execute_result",
          "data": {
            "application/vnd.google.colaboratory.intrinsic+json": {
              "type": "string"
            },
            "text/plain": [
              "'20'"
            ]
          },
          "metadata": {},
          "execution_count": 11
        }
      ]
    },
    {
      "cell_type": "markdown",
      "metadata": {
        "id": "sRgFyAz6amD7"
      },
      "source": [
        "Strings are immutable: you cannot change an element after the variable was initialized:"
      ]
    },
    {
      "cell_type": "code",
      "metadata": {
        "colab": {
          "base_uri": "https://localhost:8080/",
          "height": 167
        },
        "id": "uxZhG6ojalqK",
        "outputId": "491e788c-2a06-4e7d-8ef3-bd6997f1680e"
      },
      "source": [
        "depth[0] = '5'"
      ],
      "execution_count": null,
      "outputs": [
        {
          "output_type": "error",
          "ename": "TypeError",
          "evalue": "ignored",
          "traceback": [
            "\u001b[0;31m---------------------------------------------------------------------------\u001b[0m",
            "\u001b[0;31mTypeError\u001b[0m                                 Traceback (most recent call last)",
            "\u001b[0;32m<ipython-input-12-0985e3722ee1>\u001b[0m in \u001b[0;36m<module>\u001b[0;34m()\u001b[0m\n\u001b[0;32m----> 1\u001b[0;31m \u001b[0mdepth\u001b[0m\u001b[0;34m[\u001b[0m\u001b[0;36m0\u001b[0m\u001b[0;34m]\u001b[0m \u001b[0;34m=\u001b[0m \u001b[0;34m'5'\u001b[0m\u001b[0;34m\u001b[0m\u001b[0;34m\u001b[0m\u001b[0m\n\u001b[0m",
            "\u001b[0;31mTypeError\u001b[0m: 'str' object does not support item assignment"
          ]
        }
      ]
    },
    {
      "cell_type": "markdown",
      "metadata": {
        "id": "tM6bxmPxbkRB"
      },
      "source": [
        "Operator overloading: using the same operator with different data types means different operations"
      ]
    },
    {
      "cell_type": "code",
      "metadata": {
        "colab": {
          "base_uri": "https://localhost:8080/"
        },
        "id": "962kj2ifZ-VD",
        "outputId": "33f1865b-8893-460e-8141-e37298020749"
      },
      "source": [
        "2300 + 367"
      ],
      "execution_count": null,
      "outputs": [
        {
          "output_type": "execute_result",
          "data": {
            "text/plain": [
              "2667"
            ]
          },
          "metadata": {},
          "execution_count": 13
        }
      ]
    },
    {
      "cell_type": "code",
      "metadata": {
        "id": "Ojhb_azkbq0i"
      },
      "source": [
        "'depth ' + '(m)'"
      ],
      "execution_count": null,
      "outputs": []
    },
    {
      "cell_type": "code",
      "metadata": {
        "id": "Gxnvo9BTyzWV"
      },
      "source": [
        "'depth' + 367"
      ],
      "execution_count": null,
      "outputs": []
    },
    {
      "cell_type": "code",
      "metadata": {
        "id": "I3FDHbR5yzWV"
      },
      "source": [
        "'depth' + str(367)"
      ],
      "execution_count": null,
      "outputs": []
    },
    {
      "cell_type": "markdown",
      "metadata": {
        "id": "D2XetkvocJhJ"
      },
      "source": [
        "# 2. Python sequences: lists, tuples, dictionaries, numpy arrays"
      ]
    },
    {
      "cell_type": "code",
      "metadata": {
        "id": "dumE8igXyzWV"
      },
      "source": [
        ""
      ],
      "execution_count": null,
      "outputs": []
    },
    {
      "cell_type": "code",
      "metadata": {
        "id": "EQTj3S5fbu5M"
      },
      "source": [
        "depths = [10.0, 20.0, 30.0, 40.0, 50.0, 60.0, 70.0] # list of depth values"
      ],
      "execution_count": null,
      "outputs": []
    },
    {
      "cell_type": "code",
      "metadata": {
        "colab": {
          "base_uri": "https://localhost:8080/"
        },
        "id": "fYCiHGHvdGQv",
        "outputId": "6c73d685-d1ed-4477-c468-cf72c3c17676"
      },
      "source": [
        "depths[4:6] # a list is a sequence (= ordered set) and can be indexed and sliced"
      ],
      "execution_count": null,
      "outputs": [
        {
          "output_type": "execute_result",
          "data": {
            "text/plain": [
              "[50.0, 60.0]"
            ]
          },
          "metadata": {},
          "execution_count": 19
        }
      ]
    },
    {
      "cell_type": "code",
      "metadata": {
        "colab": {
          "base_uri": "https://localhost:8080/"
        },
        "id": "2urNbHgXdW1C",
        "outputId": "bcccede6-2554-4236-b55b-2d06e7cd629a"
      },
      "source": [
        "depths[1] = 25.0 # lists are mutable\n",
        "depths"
      ],
      "execution_count": null,
      "outputs": [
        {
          "output_type": "execute_result",
          "data": {
            "text/plain": [
              "[10.0, 25.0, 30.0, 40.0, 50.0, 60.0, 70.0]"
            ]
          },
          "metadata": {},
          "execution_count": 20
        }
      ]
    },
    {
      "cell_type": "code",
      "metadata": {
        "colab": {
          "base_uri": "https://localhost:8080/"
        },
        "id": "oIv4VgDxdiT8",
        "outputId": "4d273a34-4eec-4386-9c57-a38889974f67"
      },
      "source": [
        "depths2 = depths\n",
        "depths2"
      ],
      "execution_count": null,
      "outputs": [
        {
          "output_type": "execute_result",
          "data": {
            "text/plain": [
              "[10.0, 25.0, 30.0, 40.0, 50.0, 60.0, 70.0]"
            ]
          },
          "metadata": {},
          "execution_count": 21
        }
      ]
    },
    {
      "cell_type": "code",
      "metadata": {
        "colab": {
          "base_uri": "https://localhost:8080/"
        },
        "id": "X1B86g9DenUr",
        "outputId": "af3ac607-1ae2-4669-be0e-39323683822a"
      },
      "source": [
        "depths2[0] = depths2[0]+10\n",
        "depths2"
      ],
      "execution_count": null,
      "outputs": [
        {
          "output_type": "execute_result",
          "data": {
            "text/plain": [
              "[20.0, 25.0, 30.0, 40.0, 50.0, 60.0, 70.0]"
            ]
          },
          "metadata": {},
          "execution_count": 22
        }
      ]
    },
    {
      "cell_type": "code",
      "metadata": {
        "colab": {
          "base_uri": "https://localhost:8080/"
        },
        "id": "xdnh4tIRe7JI",
        "outputId": "dd957ecb-ba76-4084-c16f-7d4e7cbdce9f"
      },
      "source": [
        "depths"
      ],
      "execution_count": null,
      "outputs": [
        {
          "output_type": "execute_result",
          "data": {
            "text/plain": [
              "[20.0, 25.0, 30.0, 40.0, 50.0, 60.0, 70.0]"
            ]
          },
          "metadata": {},
          "execution_count": 23
        }
      ]
    },
    {
      "cell_type": "code",
      "metadata": {
        "colab": {
          "base_uri": "https://localhost:8080/"
        },
        "id": "aXkhwOxOe7-4",
        "outputId": "81ca1782-bbb9-4392-f7fd-a8eeb9ad7523"
      },
      "source": [
        "id(depths)"
      ],
      "execution_count": null,
      "outputs": [
        {
          "output_type": "execute_result",
          "data": {
            "text/plain": [
              "139901695885792"
            ]
          },
          "metadata": {},
          "execution_count": 24
        }
      ]
    },
    {
      "cell_type": "code",
      "metadata": {
        "colab": {
          "base_uri": "https://localhost:8080/"
        },
        "id": "FxKBSQDSfDX5",
        "outputId": "38dbbf1e-7f25-4e1d-acf8-3f2acdef36a4"
      },
      "source": [
        "id(depths2) # 'depths2' has the same id as 'depth': they are pointing to the same object"
      ],
      "execution_count": null,
      "outputs": [
        {
          "output_type": "execute_result",
          "data": {
            "text/plain": [
              "139901695885792"
            ]
          },
          "metadata": {},
          "execution_count": 25
        }
      ]
    },
    {
      "cell_type": "code",
      "metadata": {
        "colab": {
          "base_uri": "https://localhost:8080/"
        },
        "id": "iTDXuH9ieF9o",
        "outputId": "bf67f837-8f06-4755-d2a3-99e1005ca79f"
      },
      "source": [
        "depths2 = [a+4 for a in depths2] # list comprehension\n",
        "depths2"
      ],
      "execution_count": null,
      "outputs": [
        {
          "output_type": "execute_result",
          "data": {
            "text/plain": [
              "[24.0, 29.0, 34.0, 44.0, 54.0, 64.0, 74.0]"
            ]
          },
          "metadata": {},
          "execution_count": 26
        }
      ]
    },
    {
      "cell_type": "code",
      "metadata": {
        "colab": {
          "base_uri": "https://localhost:8080/"
        },
        "id": "OROQFhHzeL93",
        "outputId": "88a0b849-2cc3-4ea0-cecf-bf57adc61429"
      },
      "source": [
        "depths # 'depths2' now points to a new object; 'depths' is unchanged"
      ],
      "execution_count": null,
      "outputs": [
        {
          "output_type": "execute_result",
          "data": {
            "text/plain": [
              "[20.0, 25.0, 30.0, 40.0, 50.0, 60.0, 70.0]"
            ]
          },
          "metadata": {},
          "execution_count": 27
        }
      ]
    },
    {
      "cell_type": "code",
      "metadata": {
        "id": "eYYKxErzfEq1"
      },
      "source": [
        "depths2 = depths[:] # slicing creates a copy, so the original list will be unaffected by changes to 'depths2'"
      ],
      "execution_count": null,
      "outputs": []
    },
    {
      "cell_type": "code",
      "metadata": {
        "colab": {
          "base_uri": "https://localhost:8080/"
        },
        "id": "J2n1ko7-c0Vq",
        "outputId": "c85ead03-f346-4e3d-d984-e3652527de30"
      },
      "source": [
        "id(depths2)"
      ],
      "execution_count": null,
      "outputs": [
        {
          "output_type": "execute_result",
          "data": {
            "text/plain": [
              "139901695373392"
            ]
          },
          "metadata": {},
          "execution_count": 29
        }
      ]
    },
    {
      "cell_type": "code",
      "metadata": {
        "id": "DwiKUuyVxKZb"
      },
      "source": [
        "tup = (2, 3, 4, 5) # a tuple is an immutable sequence"
      ],
      "execution_count": null,
      "outputs": []
    },
    {
      "cell_type": "code",
      "metadata": {
        "colab": {
          "base_uri": "https://localhost:8080/",
          "height": 167
        },
        "id": "k3kqYl15xb8J",
        "outputId": "397e3169-d60d-4842-8feb-d8dcba365e8a"
      },
      "source": [
        "tup[1] = 1"
      ],
      "execution_count": null,
      "outputs": [
        {
          "output_type": "error",
          "ename": "TypeError",
          "evalue": "ignored",
          "traceback": [
            "\u001b[0;31m---------------------------------------------------------------------------\u001b[0m",
            "\u001b[0;31mTypeError\u001b[0m                                 Traceback (most recent call last)",
            "\u001b[0;32m<ipython-input-31-d516279dfb61>\u001b[0m in \u001b[0;36m<module>\u001b[0;34m()\u001b[0m\n\u001b[0;32m----> 1\u001b[0;31m \u001b[0mtup\u001b[0m\u001b[0;34m[\u001b[0m\u001b[0;36m1\u001b[0m\u001b[0;34m]\u001b[0m \u001b[0;34m=\u001b[0m \u001b[0;36m1\u001b[0m\u001b[0;34m\u001b[0m\u001b[0;34m\u001b[0m\u001b[0m\n\u001b[0m",
            "\u001b[0;31mTypeError\u001b[0m: 'tuple' object does not support item assignment"
          ]
        }
      ]
    },
    {
      "cell_type": "markdown",
      "metadata": {
        "id": "8cXU_nbSx4tN"
      },
      "source": [
        "Using a tuple instead of a list can give the programmer a hint that the data should not be changed."
      ]
    },
    {
      "cell_type": "code",
      "metadata": {
        "id": "Z4nmzzLsyzWX"
      },
      "source": [
        "axis = {'length': 1500, 'label': 'depth'}"
      ],
      "execution_count": null,
      "outputs": []
    },
    {
      "cell_type": "code",
      "metadata": {
        "id": "yUgpH1BzyzWX"
      },
      "source": [
        "axis['length']"
      ],
      "execution_count": null,
      "outputs": []
    },
    {
      "cell_type": "markdown",
      "metadata": {
        "id": "A935v479x_Sj"
      },
      "source": [
        "# Python libraries commonly used in science\n",
        "\n",
        "\n",
        "\n"
      ]
    },
    {
      "cell_type": "markdown",
      "metadata": {
        "id": "nDlynnRw710M"
      },
      "source": [
        "* numpy - arrays\n",
        "* matplotlib - plotting\n",
        "* pandas - dataframes\n",
        "* scipy - scientific computing\n",
        "* scikit-learn - classic machine learning\n",
        "* scikit-image - image processing\n",
        "* PIL / Pillow - image processing\n",
        "* keras - fast experimentation with deep neural networks\n",
        "* tensorflow - machine learning platform\n",
        "* pytorch - machine learning platform\n",
        "* networkx - graphs / networks\n",
        "* seaborn - statistical graphs\n",
        "* numba - optimizing compiler\n",
        "* m8r - interface to Madagascar"
      ]
    },
    {
      "cell_type": "code",
      "metadata": {
        "colab": {
          "base_uri": "https://localhost:8080/"
        },
        "id": "MIm2n_Ekxc5l",
        "outputId": "8d87de39-44d4-42e5-cd9b-fac974433a99"
      },
      "source": [
        "import numpy as np # import numpy library\n",
        "a = np.array([1, 2, 3, 4.0, 5, 6, 7, 8, 9, 10]) # 1D numpy array\n",
        "b = np.array([[1,2], [3,4], [5,6], [7,8]]) # 2D numpy array\n",
        "np.shape(b)"
      ],
      "execution_count": null,
      "outputs": [
        {
          "output_type": "execute_result",
          "data": {
            "text/plain": [
              "(4, 2)"
            ]
          },
          "metadata": {},
          "execution_count": 32
        }
      ]
    },
    {
      "cell_type": "markdown",
      "metadata": {
        "id": "Nslrg7jYzIp_"
      },
      "source": [
        "Numpy arrays are mutable, ordered sequences. They facilitate advanced mathematical and other types of operations on large sets of numbers. Typically, such operations are executed more efficiently and with less code than is possible using Python’s built-in sequences. Numpy provides fast and efficient operations on arrays of homogeneous data. \n",
        "\n",
        "Most datasets that we work with in the geosciences are best dealt with as a numpy array or a pandas dataframe.\n",
        "\n"
      ]
    },
    {
      "cell_type": "code",
      "metadata": {
        "id": "IQaYs2SGyzWX",
        "outputId": "bad04a11-908e-4571-8625-4352597a14be"
      },
      "source": [
        "import matplotlib.pyplot as plt\n",
        "plt.imshow(b)"
      ],
      "execution_count": null,
      "outputs": [
        {
          "data": {
            "text/plain": [
              "<matplotlib.image.AxesImage at 0x7fe833d6fe20>"
            ]
          },
          "execution_count": 33,
          "metadata": {},
          "output_type": "execute_result"
        },
        {
          "data": {
            "image/png": "[encoded data removed]",
            "text/plain": [
              "<Figure size 432x288 with 1 Axes>"
            ]
          },
          "metadata": {
            "needs_background": "light"
          },
          "output_type": "display_data"
        }
      ]
    },
    {
      "cell_type": "markdown",
      "metadata": {
        "id": "DqM6ppJeyzWX"
      },
      "source": [
        "# 3. For loop, conditionals"
      ]
    },
    {
      "cell_type": "code",
      "metadata": {
        "id": "gTMQYU_5yzWX",
        "outputId": "5d1310ad-bca1-4a28-9b1c-7f4eeffcb568"
      },
      "source": [
        "tup = (2, 3, 4, 5)\n",
        "for t in tup:\n",
        "    print(t)"
      ],
      "execution_count": null,
      "outputs": [
        {
          "name": "stdout",
          "output_type": "stream",
          "text": [
            "2\n",
            "3\n",
            "4\n",
            "5\n"
          ]
        }
      ]
    },
    {
      "cell_type": "code",
      "metadata": {
        "id": "24IF21sXyzWX",
        "outputId": "0f2004fe-8e75-4d3b-800c-ef5bb6d0c012"
      },
      "source": [
        "axis = {'length': 1500, 'label': 'depth'}\n",
        "for key in axis.keys():\n",
        "    print(key,'=',axis[key])"
      ],
      "execution_count": null,
      "outputs": [
        {
          "name": "stdout",
          "output_type": "stream",
          "text": [
            "length = 1500\n",
            "label = depth\n"
          ]
        }
      ]
    },
    {
      "cell_type": "code",
      "metadata": {
        "id": "nnl6bclJyzWY",
        "outputId": "33b2921a-2ef8-4a1c-8278-c6b0d4ea54bf"
      },
      "source": [
        "for t in tup:\n",
        "    if t < 4:\n",
        "        print(t)\n",
        "    else:\n",
        "        print('no')\n",
        "        print('yes')"
      ],
      "execution_count": null,
      "outputs": [
        {
          "name": "stdout",
          "output_type": "stream",
          "text": [
            "2\n",
            "3\n",
            "no\n",
            "yes\n",
            "no\n",
            "yes\n"
          ]
        }
      ]
    },
    {
      "cell_type": "code",
      "metadata": {
        "id": "WkROEPdayzWY",
        "outputId": "170e7152-a337-4984-e77d-cd415963c4bd"
      },
      "source": [
        "try:\n",
        "    'depth'+367\n",
        "except:\n",
        "    print('error')"
      ],
      "execution_count": null,
      "outputs": [
        {
          "name": "stdout",
          "output_type": "stream",
          "text": [
            "error\n"
          ]
        }
      ]
    },
    {
      "cell_type": "markdown",
      "metadata": {
        "id": "rWuhtQDx7Kmh"
      },
      "source": [
        "# 4. Functions"
      ]
    },
    {
      "cell_type": "code",
      "metadata": {
        "colab": {
          "base_uri": "https://localhost:8080/"
        },
        "id": "tK2g16hZ7Oiv",
        "outputId": "02943d01-6306-4ace-86b8-abf924514e39"
      },
      "source": [
        "def sum_of_two_numbers(a, b):\n",
        "  return(a + b)\n",
        "\n",
        "sum_of_two_numbers(10, 15)"
      ],
      "execution_count": null,
      "outputs": [
        {
          "output_type": "execute_result",
          "data": {
            "text/plain": [
              "25"
            ]
          },
          "metadata": {},
          "execution_count": 16
        }
      ]
    },
    {
      "cell_type": "code",
      "metadata": {
        "id": "PuBFIY2uyzWY",
        "colab": {
          "base_uri": "https://localhost:8080/"
        },
        "outputId": "c886342f-f651-4420-975c-f939c822d24e"
      },
      "source": [
        "b = np.array([[1,2], [3,4], [5,6], [7,8]])\n",
        "np.sin(b)"
      ],
      "execution_count": null,
      "outputs": [
        {
          "output_type": "execute_result",
          "data": {
            "text/plain": [
              "array([[ 0.84147098,  0.90929743],\n",
              "       [ 0.14112001, -0.7568025 ],\n",
              "       [-0.95892427, -0.2794155 ],\n",
              "       [ 0.6569866 ,  0.98935825]])"
            ]
          },
          "metadata": {},
          "execution_count": 33
        }
      ]
    },
    {
      "cell_type": "markdown",
      "metadata": {
        "id": "k6iCNUy01P8R"
      },
      "source": [
        "# 5. Classes and Object-Oriented Programming"
      ]
    },
    {
      "cell_type": "markdown",
      "metadata": {
        "id": "c6tg6KFc3K_C"
      },
      "source": [
        "Classes and OOP sound like complicated subjects but it is not that hard to start using them. Classes are extremely useful when you are dealing with complex datasets. In this section we will create a 'Well' class to store log data."
      ]
    },
    {
      "cell_type": "code",
      "metadata": {
        "id": "6_w_7Acr2f2I"
      },
      "source": [
        "class Well: \n",
        "    \"\"\"class for storing and manipulating well log data\n",
        "    Inputs for initialization:\n",
        "    name - name of the well (usually this is the UWI)\n",
        "    md - depth (can be either MD or TVD, depending on dataset)\n",
        "    gr - gamma ray log\n",
        "    units - units used for depth\n",
        "    xcoord - x coordinate of surface location\n",
        "    ycoord - y coordinate for surface location\n",
        "    kb_elev - KB elevation\"\"\"   \n",
        "    def __init__(self, name, md, gr, units, xcoord, ycoord, kb_elev): #initialization method\n",
        "        self.name = name\n",
        "        if units == 'ft': # convert to meters\n",
        "            self.md = md*0.3048\n",
        "        else:\n",
        "            self.md = md\n",
        "        self.gr = gr # gamma ray\n",
        "        self.xcoord = xcoord\n",
        "        self.ycoord = ycoord\n",
        "        self.kb_elev = kb_elev\n",
        "    def plot(self): # method for plotting log\n",
        "        \"\"\"method for plotting well log\"\"\"\n",
        "        fig = plt.figure(figsize=(3,12))\n",
        "        ax = fig.add_subplot(111)\n",
        "        ax.plot(self.gr,self.md,linewidth=0.5)\n",
        "        plt.title(self.name, fontsize=12)\n",
        "        plt.gca().invert_yaxis()\n",
        "    def __str__(self):\n",
        "        return 'Well: %s' %(self.name)"
      ],
      "execution_count": null,
      "outputs": []
    },
    {
      "cell_type": "code",
      "metadata": {
        "id": "4xIZOAsF0_Ab"
      },
      "source": [
        "# Let's generate some data as numpy arrays. 'gr' is the gamma ray values; 'md' is the measured depth.\n",
        "\n",
        "gr = np.array([28.200,28.800,31.531,37.959,44.694,51.600,54.300,44.694,35.510,22.800,12.000,9.300,10.500,13.200,17.700,25.500,31.531,35.204,38.878,44.082,48.000,50.400,51.300,\n",
        "                51.000,48.000,44.388,39.490,33.980,28.500,20.400,18.600,18.000,21.000,27.600,35.510,37.347,32.449,28.500,29.700,35.204,46.800,55.500,51.600,41.020,31.225,28.800,\n",
        "                28.800,29.400,30.000,30.000,32.449,40.408,47.100,53.700,63.000,70.800,73.800,68.100,53.700,41.633,33.674,29.100,24.600,21.300,21.000,55.500,68.100,107.700,\n",
        "                129.490,116.400,94.592,74.100,53.700,41.327,37.959,38.878,38.571,34.883,30.911,27.300,25.500,26.700,33.900,45.900,54.000,63.980,74.388,85.800,96.735,102.551,\n",
        "                91.837,72.551,46.200,33.000,33.000,46.200,52.800,58.543,64.581,74.408,84.490,88.163,82.347,72.059,66.471,66.177,69.412,73.235,73.529,57.600,44.694,33.061,\n",
        "                27.000,34.592,42.245,51.300,59.700,57.900,55.800,56.400,62.100,69.300,70.800,64.800,56.100,43.776,43.163,47.700,54.600,62.700,70.800,78.300,81.600,84.300,\n",
        "                77.400,60.600,46.200,35.816,28.800,30.000,42.245,54.000,66.000,73.200,71.700,62.700,53.100,45.900,46.800,51.900,57.900,58.500,53.100,48.300,45.300,46.200,\n",
        "                50.700,57.600,56.400,51.600,49.800,56.100,60.300,51.300,40.102,32.143,32.449,46.200,62.400,75.918,90.900,93.000,84.490,60.600,40.750,20.900,16.171,15.900,\n",
        "                15.600,15.600,16.500,16.500,17.700,19.200,21.000,22.800,23.700,23.100,22.800,22.500,22.800,24.900,28.800,33.000,37.800,44.100,47.100,43.800,38.700,32.700,\n",
        "                26.100,24.300,25.800,30.300,30.000,27.900,25.500,27.300,30.000,32.700,37.200,42.900,51.000,56.700,58.500,62.100,65.700,63.300,54.600,41.327,31.837,27.300,\n",
        "                24.600,24.000,24.600,27.600,31.837,36.429,37.653,37.347,37.959,37.347,33.674,27.900,21.900,19.500,20.100,22.500,25.800,27.900,28.500,28.500,29.400,35.510,\n",
        "                43.776,45.900,40.408,33.367,26.400,22.200,21.900,24.000,26.700,27.900,27.600,24.600,21.600,21.600,24.300,26.700,33.367,41.327,48.300,49.200,47.400,47.100,\n",
        "                47.700,42.245,33.367,22.200,23.700,32.755,43.776,43.776,39.184,31.531,26.400,26.400,27.900,30.918,33.980,37.347,38.265,37.347,34.592,33.980,34.898,34.898,\n",
        "                33.061,31.531,31.531,32.449,33.061,33.980,34.898,36.429,37.347,36.735,36.429,38.571,45.600,48.300,45.000,39.490,33.674,33.061,42.551,52.200,61.200,70.200,\n",
        "                78.000,77.100,74.100,69.600,63.000,54.300,41.327,33.980,31.531,32.755,37.653,45.000,51.000,51.900,52.500,52.800,56.700,61.800,63.900,63.900,60.000,51.000,\n",
        "                43.469,36.122,36.122,45.300,57.300,70.200,72.900,67.800,60.300,57.900,54.900,50.400,45.000,41.327,40.714,41.633,41.633,40.408,37.653,35.204,32.449,30.000,\n",
        "                30.306,34.898,40.102,46.500,52.800,59.100,57.000,49.200,32.755,19.200,14.400,13.500,14.400,15.900,18.300,21.600,24.000,27.000,30.918,36.429,41.939,47.400,\n",
        "                53.700,61.200,63.000,50.100,38.571,36.122,42.551,48.300,51.600,51.000,49.200,42.857,38.265,33.367,33.674,34.592,34.592,33.061,31.531,29.700,29.400,31.837,\n",
        "                35.204,35.816,33.061,30.000,28.800,28.800,29.100,30.306,33.980,39.796,44.694,49.500,49.500,43.163,39.184,37.041,35.204,33.980,35.816,39.490,41.633,43.776,\n",
        "                48.900,55.200,60.300,61.200,59.700,55.800,51.300,45.000,39.490,33.674,26.400,21.900,22.500,24.600,25.500,27.000,28.800,31.526,32.126,33.022,35.413,41.700,\n",
        "                45.000,38.700,31.800,24.600,22.800,25.200,26.700,30.900,34.500,37.800,39.600,36.300,29.700,21.900,18.900,16.800,15.600])\n",
        "\n",
        "md = np.array([863.194,863.346,863.498,863.651,863.803,863.956,864.108,864.260,864.413,864.565,864.718,864.870,865.022,865.175,865.327,865.480,865.632,865.784,865.937,866.089,\n",
        "               866.242,866.394,866.546,866.699,866.851,867.004,867.156,867.308,867.461,867.613,867.766,867.918,868.070,868.223,868.375,868.528,868.680,868.832,868.985,869.137,\n",
        "               869.290,869.442,869.594,869.747,869.899,870.052,870.204,870.356,870.509,870.661,870.814,870.966,871.118,871.271,871.423,871.576,871.728,871.880,872.033,872.185,\n",
        "               872.338,872.490,872.642,872.795,872.947,873.100,873.252,873.404,873.557,873.709,873.862,874.014,874.166,874.319,874.471,874.624,874.776,874.928,875.081,875.233,\n",
        "               875.386,875.538,875.690,875.843,875.995,876.148,876.300,876.452,876.605,876.757,876.910,877.062,877.214,877.367,877.519,877.672,877.824,877.976,878.129,878.281,\n",
        "               878.434,878.586,878.738,878.891,879.043,879.196,879.348,879.500,879.653,879.805,879.958,880.110,880.262,880.415,880.567,880.720,880.872,881.024,881.177,881.329,\n",
        "               881.482,881.634,881.786,881.939,882.091,882.244,882.396,882.548,882.701,882.853,883.006,883.158,883.310,883.463,883.615,883.768,883.920,884.072,884.225,884.377,\n",
        "               884.530,884.682,884.834,884.987,885.139,885.292,885.444,885.596,885.749,885.901,886.054,886.206,886.358,886.511,886.663,886.816,886.968,887.120,887.273,887.425,\n",
        "               887.578,887.730,887.882,888.035,888.187,888.340,888.492,888.644,888.797,888.949,889.102,889.254,889.406,889.559,889.711,889.864,890.016,890.168,890.321,890.473,\n",
        "               890.626,890.778,890.930,891.083,891.235,891.388,891.540,891.692,891.845,891.997,892.150,892.302,892.454,892.607,892.759,892.912,893.064,893.216,893.369,893.521,\n",
        "               893.674,893.826,893.978,894.131,894.283,894.436,894.588,894.740,894.893,895.045,895.198,895.350,895.502,895.655,895.807,895.960,896.112,896.264,896.417,896.569,\n",
        "               896.722,896.874,897.026,897.179,897.331,897.484,897.636,897.788,897.941,898.093,898.246,898.398,898.550,898.703,898.855,899.008,899.160,899.312,899.465,899.617,\n",
        "               899.770,899.922,900.074,900.227,900.379,900.532,900.684,900.836,900.989,901.141,901.294,901.446,901.598,901.751,901.903,902.056,902.208,902.360,902.513,902.665,\n",
        "               902.818,902.970,903.122,903.275,903.427,903.580,903.732,903.884,904.037,904.189,904.342,904.494,904.646,904.799,904.951,905.104,905.256,905.408,905.561,905.713,\n",
        "               905.866,906.018,906.170,906.323,906.475,906.628,906.780,906.932,907.085,907.237,907.390,907.542,907.694,907.847,907.999,908.152,908.304,908.456,908.609,908.761,\n",
        "               908.914,909.066,909.218,909.371,909.523,909.676,909.828,909.980,910.133,910.285,910.438,910.590,910.742,910.895,911.047,911.200,911.352,911.504,911.657,911.809,\n",
        "               911.962,912.114,912.266,912.419,912.571,912.724,912.876,913.028,913.181,913.333,913.486,913.638,913.790,913.943,914.095,914.248,914.400,914.552,914.705,914.857,\n",
        "               915.010,915.162,915.314,915.467,915.619,915.772,915.924,916.076,916.229,916.381,916.534,916.686,916.838,916.991,917.143,917.296,917.448,917.600,917.753,917.905,\n",
        "               918.058,918.210,918.362,918.515,918.667,918.820,918.972,919.124,919.277,919.429,919.582,919.734,919.886,920.039,920.191,920.344,920.496,920.648,920.801,920.953,\n",
        "               921.106,921.258,921.410,921.563,921.715,921.868,922.020,922.172,922.325,922.477,922.630,922.782,922.934,923.087,923.239,923.392,923.544,923.696,923.849,924.001,\n",
        "               924.154,924.306,924.458,924.611,924.763,924.916,925.068,925.220,925.373,925.525,925.678,925.830,925.982,926.135,926.287,926.440,926.592,926.744,926.897,927.049,\n",
        "               927.202,927.354,927.506,927.659,927.811,927.964,928.116,928.268,928.421,928.573,928.726,928.878,929.030,929.183,929.335,929.488,929.640,929.792,929.945,930.097,\n",
        "               930.250,930.402,930.554,930.707,930.859,931.012,931.164,931.316,931.469,931.621,931.774,931.926,932.078,932.231,932.383,932.536,932.688,932.840,932.993])\n",
        "\n",
        "\n"
      ],
      "execution_count": null,
      "outputs": []
    },
    {
      "cell_type": "code",
      "metadata": {
        "colab": {
          "base_uri": "https://localhost:8080/",
          "height": 226
        },
        "id": "-xhRVPns0pjg",
        "outputId": "823abf35-0081-49be-cebb-6d9324c23a4c"
      },
      "source": [
        "# plotting the GR log using matplotlib\n",
        "\n",
        "import matplotlib.pyplot as plt\n",
        "plt.figure(figsize=(15,3))\n",
        "plt.plot(md,gr)\n",
        "plt.xlabel('depth(m)')\n",
        "plt.ylabel('gamma ray')"
      ],
      "execution_count": null,
      "outputs": [
        {
          "output_type": "execute_result",
          "data": {
            "text/plain": [
              "Text(0, 0.5, 'gamma ray')"
            ]
          },
          "metadata": {},
          "execution_count": 35
        },
        {
          "output_type": "display_data",
          "data": {
            "image/png": "[encoded data removed]",
            "text/plain": [
              "<Figure size 1080x216 with 1 Axes>"
            ]
          },
          "metadata": {
            "needs_background": "light"
          }
        }
      ]
    },
    {
      "cell_type": "code",
      "metadata": {
        "id": "TE3CiymC26ve"
      },
      "source": [
        "# now let's create an instance of the 'Well' class that stores this GR log:\n",
        "well1 = Well(name='my_well', md=md, gr=gr, units='m', xcoord=1000.0, ycoord=1000.0, kb_elev=28.0)"
      ],
      "execution_count": null,
      "outputs": []
    },
    {
      "cell_type": "code",
      "metadata": {
        "colab": {
          "base_uri": "https://localhost:8080/"
        },
        "id": "HvP9EghS4g8d",
        "outputId": "2fe6eaa3-ba65-41ea-95c6-878b394339c5"
      },
      "source": [
        "# We can access the attributes of our Well instance using the dot notation. Let's say we want to look at the first ten GR values.\n",
        "well1.gr[:10]"
      ],
      "execution_count": null,
      "outputs": [
        {
          "output_type": "execute_result",
          "data": {
            "text/plain": [
              "array([28.2  , 28.8  , 31.531, 37.959, 44.694, 51.6  , 54.3  , 44.694,\n",
              "       35.51 , 22.8  ])"
            ]
          },
          "metadata": {},
          "execution_count": 37
        }
      ]
    },
    {
      "cell_type": "code",
      "metadata": {
        "colab": {
          "base_uri": "https://localhost:8080/"
        },
        "id": "N3WYvXim5MI4",
        "outputId": "869a59d9-c870-4524-9dd4-6a5daa08785b"
      },
      "source": [
        "# if we print our Well instance, we get the name of the well (because that's how we defined the '__str__' method in the 'Well' class):\n",
        "print(well1)"
      ],
      "execution_count": null,
      "outputs": [
        {
          "output_type": "stream",
          "name": "stdout",
          "text": [
            "Well: my_well\n"
          ]
        }
      ]
    },
    {
      "cell_type": "code",
      "metadata": {
        "colab": {
          "base_uri": "https://localhost:8080/",
          "height": 716
        },
        "id": "sqqlTimQ50aZ",
        "outputId": "bf65c378-8365-45e9-d56f-9d3c5e9fc231"
      },
      "source": [
        "# let's plot the GR log:\n",
        "well1.plot()"
      ],
      "execution_count": null,
      "outputs": [
        {
          "output_type": "display_data",
          "data": {
            "image/png": "[encoded data removed]",
            "text/plain": [
              "<Figure size 216x864 with 1 Axes>"
            ]
          },
          "metadata": {
            "needs_background": "light"
          }
        }
      ]
    },
    {
      "cell_type": "markdown",
      "metadata": {
        "id": "PR9RQFLp8xCM"
      },
      "source": [
        "# Resources for Python & scientific computing"
      ]
    },
    {
      "cell_type": "markdown",
      "metadata": {
        "id": "TzNEp8YBw57v"
      },
      "source": [
        "# A few libraries and a list of libraries useful for geoscientists"
      ]
    },
    {
      "cell_type": "markdown",
      "metadata": {
        "id": "Jc8gDRll-C-s"
      },
      "source": [
        "https://github.com/agile-geoscience/welly\n",
        "\n",
        "https://github.com/agile-geoscience/striplog\n",
        "\n",
        "https://github.com/fatiando/verde\n",
        "\n",
        "https://github.com/softwareunderground/awesome-open-geoscience\n"
      ]
    },
    {
      "cell_type": "markdown",
      "metadata": {
        "id": "bSngk75i82Wl"
      },
      "source": [
        "* Software Carpentry: https://software-carpentry.org/lessons/\n",
        "* A Primer on Scientific Computing with Python: http://hplgit.github.io/scipro-primer/\n",
        "* Intro to numerical modeling, using the diffusion equation: https://github.com/zsylvester/notebooks/blob/master/diffusion_equation.ipynb\n",
        "* Python interface to Madagascar: http://ahay.org/wiki/Conferences#Austin_2012_.28SciPy.29\n",
        "http://www.ahay.org/wiki/Guide_to_madagascar_API#Python_interface"
      ]
    },
    {
      "cell_type": "code",
      "metadata": {
        "id": "98TiLUes96pA"
      },
      "source": [
        ""
      ],
      "execution_count": null,
      "outputs": []
    }
  ]
}